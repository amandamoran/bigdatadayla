{
 "cells": [
  {
   "cell_type": "markdown",
   "metadata": {},
   "source": [
    "# When Rotten Tomatoes Isn't Enough: Twitter Sentiment Analysis with DSE\n",
    "\n",
    "#### A demo using DataStax Enterprise Analytics, Apache Cassandra, Apache Spark, python, Jupyter Notebooks, twitter api, pattern, and sentiment analysis"
   ]
  },
  {
   "cell_type": "markdown",
   "metadata": {},
   "source": [
    "### Things To Setup\n",
    "* Create a Twitter Account and get API access: https://developer.twitter.com/en/docs/ads/general/guides/getting-started.html\n",
    "* Install DSE https://docs.datastax.com/en/install/doc/install60/installTOC.html\n",
    "* Start DSE Analytics Cluster: dse cassandra -k #Must use -k option for Analytics\n",
    "* Set and Source Twitter enviroment variables in shell you will start Jupyter from\n",
    "* CONSUMER_KEY \n",
    "* CONSUMER_SECRET \n",
    "* ACCESS_TOKEN \n",
    "* ACCESS_TOKEN_SECRET\n",
    "* Using Python 2.7\n",
    "* Using DSE Analytics 6\n",
    "* Using latest verion of Jupyter\n",
    "* Install Anaconda and Jupyter #Anaconda is not required but will make installing jupyter easier \n",
    "* Find full path to <>/dse-6.0.1/resources/spark/python/lib/pyspark.zip\n",
    "* Find full path to <>/dse-6.0.1/resources/spark/python/lib/py4j-0.10.4-src.zip\n",
    "* Start Jupyter with DSE to get all environemnt variables: dse exec jupyter notebook\n",
    "* !pip install cassandra-driver\n",
    "* !pip install tweepy \n",
    "* !pip install pattern \n",
    "* !pip install panadas\n",
    "* Counter-intuitive don't install pyspark!!"
   ]
  },
  {
   "cell_type": "markdown",
   "metadata": {},
   "source": [
    "#### Add some environment variables to find dse verision of pyspark. Edit these varibles with your path."
   ]
  },
  {
   "cell_type": "code",
   "execution_count": 1,
   "metadata": {},
   "outputs": [],
   "source": [
    "pysparkzip = \"/opt/dse/resources/spark/python/lib/pyspark.zip\"\n",
    "py4jzip = \"/opt/dse/resources/spark/python/lib/py4j-0.10.4-src.zip\""
   ]
  },
  {
   "cell_type": "code",
   "execution_count": 2,
   "metadata": {},
   "outputs": [],
   "source": [
    "# Needed to be able to find pyspark libaries\n",
    "import sys\n",
    "sys.path.append(pysparkzip)\n",
    "sys.path.append(py4jzip)"
   ]
  },
  {
   "cell_type": "markdown",
   "metadata": {},
   "source": [
    "#### Import python packages -- all are required"
   ]
  },
  {
   "cell_type": "code",
   "execution_count": 3,
   "metadata": {},
   "outputs": [
    {
     "name": "stderr",
     "output_type": "stream",
     "text": [
      "/usr/local/lib/python2.7/dist-packages/pandas/_libs/__init__.py:4: RuntimeWarning: numpy.dtype size changed, may indicate binary incompatibility. Expected 96, got 88\n",
      "  from .tslib import iNaT, NaT, Timestamp, Timedelta, OutOfBoundsDatetime\n",
      "/usr/local/lib/python2.7/dist-packages/pandas/__init__.py:26: RuntimeWarning: numpy.dtype size changed, may indicate binary incompatibility. Expected 96, got 88\n",
      "  from pandas._libs import (hashtable as _hashtable,\n",
      "/usr/local/lib/python2.7/dist-packages/pandas/core/dtypes/common.py:6: RuntimeWarning: numpy.dtype size changed, may indicate binary incompatibility. Expected 96, got 88\n",
      "  from pandas._libs import algos, lib\n",
      "/usr/local/lib/python2.7/dist-packages/pandas/core/util/hashing.py:7: RuntimeWarning: numpy.dtype size changed, may indicate binary incompatibility. Expected 96, got 88\n",
      "  from pandas._libs import hashing, tslib\n",
      "/usr/local/lib/python2.7/dist-packages/pandas/core/indexes/base.py:7: RuntimeWarning: numpy.dtype size changed, may indicate binary incompatibility. Expected 96, got 88\n",
      "  from pandas._libs import (lib, index as libindex, tslib as libts,\n",
      "/usr/local/lib/python2.7/dist-packages/pandas/tseries/offsets.py:21: RuntimeWarning: numpy.dtype size changed, may indicate binary incompatibility. Expected 96, got 88\n",
      "  import pandas._libs.tslibs.offsets as liboffsets\n",
      "/usr/local/lib/python2.7/dist-packages/pandas/core/ops.py:16: RuntimeWarning: numpy.dtype size changed, may indicate binary incompatibility. Expected 96, got 88\n",
      "  from pandas._libs import algos as libalgos, ops as libops\n",
      "/usr/local/lib/python2.7/dist-packages/pandas/core/indexes/interval.py:32: RuntimeWarning: numpy.dtype size changed, may indicate binary incompatibility. Expected 96, got 88\n",
      "  from pandas._libs.interval import (\n",
      "/usr/local/lib/python2.7/dist-packages/pandas/core/internals.py:14: RuntimeWarning: numpy.dtype size changed, may indicate binary incompatibility. Expected 96, got 88\n",
      "  from pandas._libs import internals as libinternals\n",
      "/usr/local/lib/python2.7/dist-packages/pandas/core/sparse/array.py:33: RuntimeWarning: numpy.dtype size changed, may indicate binary incompatibility. Expected 96, got 88\n",
      "  import pandas._libs.sparse as splib\n",
      "/usr/local/lib/python2.7/dist-packages/pandas/core/window.py:36: RuntimeWarning: numpy.dtype size changed, may indicate binary incompatibility. Expected 96, got 88\n",
      "  import pandas._libs.window as _window\n",
      "/usr/local/lib/python2.7/dist-packages/pandas/core/groupby/groupby.py:68: RuntimeWarning: numpy.dtype size changed, may indicate binary incompatibility. Expected 96, got 88\n",
      "  from pandas._libs import (lib, reduction,\n",
      "/usr/local/lib/python2.7/dist-packages/pandas/core/reshape/reshape.py:30: RuntimeWarning: numpy.dtype size changed, may indicate binary incompatibility. Expected 96, got 88\n",
      "  from pandas._libs import algos as _algos, reshape as _reshape\n",
      "/usr/local/lib/python2.7/dist-packages/pandas/io/parsers.py:45: RuntimeWarning: numpy.dtype size changed, may indicate binary incompatibility. Expected 96, got 88\n",
      "  import pandas._libs.parsers as parsers\n",
      "/usr/local/lib/python2.7/dist-packages/pandas/io/pytables.py:50: RuntimeWarning: numpy.dtype size changed, may indicate binary incompatibility. Expected 96, got 88\n",
      "  from pandas._libs import algos, lib, writers as libwriters\n"
     ]
    }
   ],
   "source": [
    "import pandas\n",
    "import cassandra\n",
    "import pyspark\n",
    "import tweepy\n",
    "import re\n",
    "import os\n",
    "from IPython.display import display, Markdown\n",
    "from pyspark.sql import SparkSession\n",
    "from pyspark.ml.feature import Tokenizer, RegexTokenizer, StopWordsRemover\n",
    "from pyspark.sql.functions import col, udf\n",
    "from pyspark.sql.types import IntegerType\n",
    "from pattern.en import sentiment, positive"
   ]
  },
  {
   "cell_type": "markdown",
   "metadata": {},
   "source": [
    "#### Helper function to have nicer formatting of Spark DataFrames"
   ]
  },
  {
   "cell_type": "code",
   "execution_count": 4,
   "metadata": {},
   "outputs": [],
   "source": [
    "#Helper for pretty formatting for Spark DataFrames\n",
    "def showDF(df, limitRows =  5, truncate = True):\n",
    "    if(truncate):\n",
    "        pandas.set_option('display.max_colwidth', 50)\n",
    "    else:\n",
    "        pandas.set_option('display.max_colwidth', -1)\n",
    "    pandas.set_option('display.max_rows', limitRows)\n",
    "    display(df.limit(limitRows).toPandas())\n",
    "    pandas.reset_option('display.max_rows')"
   ]
  },
  {
   "cell_type": "markdown",
   "metadata": {},
   "source": [
    "### Creating Tables, Pulling Tweets, and Loading Tables"
   ]
  },
  {
   "cell_type": "markdown",
   "metadata": {},
   "source": [
    "#### Connect to DSE Analytics Cluster"
   ]
  },
  {
   "cell_type": "code",
   "execution_count": 5,
   "metadata": {},
   "outputs": [],
   "source": [
    "from cassandra.cluster import Cluster\n",
    "\n",
    "cluster = Cluster(['dse']) #If you have a locally installed DSE cluster\n",
    "session = cluster.connect()"
   ]
  },
  {
   "cell_type": "markdown",
   "metadata": {},
   "source": [
    "#### Create Demo Keyspace "
   ]
  },
  {
   "cell_type": "code",
   "execution_count": 6,
   "metadata": {},
   "outputs": [
    {
     "data": {
      "text/plain": [
       "<cassandra.cluster.ResultSet at 0x7f0cff3103d0>"
      ]
     },
     "execution_count": 6,
     "metadata": {},
     "output_type": "execute_result"
    }
   ],
   "source": [
    "session.execute(\"\"\"\n",
    "    CREATE KEYSPACE IF NOT EXISTS dseanalyticsdemo \n",
    "    WITH REPLICATION = \n",
    "    { 'class' : 'SimpleStrategy', 'replication_factor' : 1 }\"\"\"\n",
    ")"
   ]
  },
  {
   "cell_type": "markdown",
   "metadata": {},
   "source": [
    "#### Set keyspace "
   ]
  },
  {
   "cell_type": "code",
   "execution_count": 7,
   "metadata": {},
   "outputs": [],
   "source": [
    "session.set_keyspace('dseanalyticsdemo')"
   ]
  },
  {
   "cell_type": "markdown",
   "metadata": {},
   "source": [
    "#### Set Movie Title variable --Change this to search for different movies!"
   ]
  },
  {
   "cell_type": "code",
   "execution_count": 8,
   "metadata": {},
   "outputs": [],
   "source": [
    "movieTitle = \"missonimpossible\""
   ]
  },
  {
   "cell_type": "code",
   "execution_count": 9,
   "metadata": {},
   "outputs": [],
   "source": [
    "positiveNegative = [\"pos\", \"sad\"] "
   ]
  },
  {
   "cell_type": "markdown",
   "metadata": {},
   "source": [
    "#### Create two tables in Cassandra for the movie title. One of negative tweets and one for positive tweets. Twitter returns a lot of information with each call but for this demo we will just utilize the twitter id (as our Primary key as it is unique) and the actual tweet. \n",
    "#### Is using twitter id the right value to distriubte by? Consider your data model when choosing your primary key. "
   ]
  },
  {
   "cell_type": "code",
   "execution_count": 10,
   "metadata": {},
   "outputs": [
    {
     "name": "stdout",
     "output_type": "stream",
     "text": [
      "CREATE TABLE IF NOT EXISTS movie_tweets2_missonimpossible_pos (twitterid bigint, tweet text, PRIMARY KEY (twitterid))\n",
      "CREATE TABLE IF NOT EXISTS movie_tweets2_missonimpossible_sad (twitterid bigint, tweet text, PRIMARY KEY (twitterid))\n"
     ]
    }
   ],
   "source": [
    "for emotion in positiveNegative: \n",
    "    \n",
    "    query = \"CREATE TABLE IF NOT EXISTS movie_tweets2_%s_%s (twitterid bigint, tweet text, PRIMARY KEY (twitterid))\" % (movieTitle, emotion)\n",
    "    print query\n",
    "    session.execute(query)\n"
   ]
  },
  {
   "cell_type": "markdown",
   "metadata": {},
   "source": [
    "#### Setting up Search Terms for gathering tweets from Twitters API. The happy :) and sad :( face are twitter operators to find positive and negative tweets"
   ]
  },
  {
   "cell_type": "code",
   "execution_count": 11,
   "metadata": {},
   "outputs": [],
   "source": [
    "searchTermSad = movieTitle + \" :(\"\n",
    "searchTermPos = movieTitle + \" :)\"\n",
    "\n",
    "searchTerms = [searchTermSad, searchTermPos]"
   ]
  },
  {
   "cell_type": "markdown",
   "metadata": {},
   "source": [
    "#### Function to CleanUp Each Tweet before if is inserted into Cassandra.\n",
    "#### Removing: \n",
    "* emojis \n",
    "* flags \n",
    "* special characters \n",
    "* URL's \n",
    "* RT (for Retweet)"
   ]
  },
  {
   "cell_type": "code",
   "execution_count": 12,
   "metadata": {},
   "outputs": [],
   "source": [
    "#Code from: https://stackoverflow.com/questions/33404752/removing-emojis-from-a-string-in-python\n",
    "\n",
    "def cleanUpTweet(tweet):\n",
    "    \n",
    "    emoji_pattern = re.compile(\n",
    "    u\"(\\ud83d[\\ude00-\\ude4f])|\"\n",
    "    u\"(\\ud83c[\\udf00-\\uffff])|\"  \n",
    "    u\"(\\ud83d[\\u0000-\\uddff])|\" \n",
    "    u\"(\\ud83d[\\ude80-\\udeff])|\"  \n",
    "    u\"(\\ud83c[\\udde0-\\uddff])\" \n",
    "    \"+\", flags=re.UNICODE)\n",
    "\n",
    "    removeSpecial = re.compile ('[\\n|#|@|!|.|?|,|\\\"]')\n",
    "    removeHttp = re.compile(\"http\\S+ | https\\S+\")\n",
    "    removeRetweet = re.compile(\"RT\")\n",
    "    \n",
    "    noemoji = emoji_pattern.sub(r'', tweet)\n",
    "    nospecial = removeSpecial.sub(r'', noemoji)\n",
    "    nohttp = removeHttp.sub(r'', nospecial)\n",
    "    noretweet = removeRetweet.sub(r'', nohttp)\n",
    "    \n",
    "    cleanTweet=noretweet\n",
    "    \n",
    "    return cleanTweet"
   ]
  },
  {
   "cell_type": "markdown",
   "metadata": {},
   "source": [
    "#### Required from Twitter: \n",
    "* consumer_key= ''\n",
    "* consumer_secret= ''\n",
    "* access_token=''\n",
    "* access_token_secret=''"
   ]
  },
  {
   "cell_type": "code",
   "execution_count": 13,
   "metadata": {},
   "outputs": [],
   "source": [
    "\n",
    "consumer_key = os.environ['CONSUMER_KEY']\n",
    "consumer_secret = os.environ['CONSUMER_SECRET']\n",
    "\n",
    "access_token = os.environ['ACCESS_TOKEN']\n",
    "access_token_secret = os.environ['ACCESS_TOKEN_SECRET']\n",
    "\n",
    "auth = tweepy.OAuthHandler(consumer_key, consumer_secret)\n",
    "auth.set_access_token(access_token, access_token_secret)\n",
    "\n",
    "api = tweepy.API(auth)"
   ]
  },
  {
   "cell_type": "markdown",
   "metadata": {},
   "source": [
    "#### This cell will pull tweets from Twitter. The max number of tweets returned for free at one time is 100. \n",
    "#### Run this code a couple of times to get more data! \n",
    "#### Once the tweets are collected, loop over the list, clean up each tweet, and then insert it into the table. A large for loops surrounds this to make one call for postive tweets and one call for negative tweets. Happy and sad face have been URL encoded. :) = \"%20%3A%29\" and :( = \"%20%3A%28\""
   ]
  },
  {
   "cell_type": "code",
   "execution_count": 14,
   "metadata": {},
   "outputs": [
    {
     "name": "stdout",
     "output_type": "stream",
     "text": [
      "pos\n",
      " moon2150: Let’s try to catch a few of those fingerlings we relesed to weigh them missonimpossible agriterra fish RupaLake nepal b…\n",
      " moon2150: Let’s try to catch a few of those fingerlings we relesed to weigh them missonimpossible agriterra fish RupaLake nepal b…\n",
      "Let’s try to catch a few of those fingerlings we relesed to weigh them missonimpossible agriterra fish RupaLake…\n",
      "MissonImpossible the new star🦎after TomCruise\n",
      "loved the new MissonImpossible film was brilliant\n",
      "sad\n",
      " moon2150: Let’s try to catch a few of those fingerlings we relesed to weigh them missonimpossible agriterra fish RupaLake nepal b…\n",
      " moon2150: Let’s try to catch a few of those fingerlings we relesed to weigh them missonimpossible agriterra fish RupaLake nepal b…\n",
      "Let’s try to catch a few of those fingerlings we relesed to weigh them missonimpossible agriterra fish RupaLake…\n",
      "MissonImpossible the new star🦎after TomCruise\n",
      "loved the new MissonImpossible film was brilliant\n"
     ]
    }
   ],
   "source": [
    "for emotion in positiveNegative:\n",
    "    print emotion\n",
    "    public_tweets = 0\n",
    "    query = \"INSERT INTO movie_tweets2_%s_%s (twitterid, tweet)\" % (movieTitle, emotion)\n",
    "    query = query + \" VALUES (%s, %s)\"\n",
    "    \n",
    "    if emotion == \"pos\":\n",
    "        searchTermPos= movieTitle + \"%20%3A%29\"\n",
    "        public_tweets = api.search(q=searchTermPos, lang=\"en\", count=\"100\")\n",
    "    if emotion == \"sad\":\n",
    "        searchTermSad= movieTitle + \"%20%3A%28\"\n",
    "        public_tweets = api.search(q=searchTermSad, lang=\"en\", count=\"100\")\n",
    "\n",
    "    for tweet in public_tweets:\n",
    "        cleanTweet = cleanUpTweet(tweet.text)\n",
    "        if \"JennyTinmouth\" not in cleanTweet:\n",
    "            session.execute(query, (tweet.id, cleanTweet))\n",
    "            print(cleanTweet)"
   ]
  },
  {
   "cell_type": "markdown",
   "metadata": {},
   "source": [
    "#### Do a select * on each table and verify that the tweets have been inserted into each Cassandra table"
   ]
  },
  {
   "cell_type": "code",
   "execution_count": 15,
   "metadata": {
    "scrolled": true
   },
   "outputs": [
    {
     "name": "stdout",
     "output_type": "stream",
     "text": [
      "pos\n",
      "(1031076451515293696, u'Let\\u2019s try to catch a few of those fingerlings we relesed to weigh them missonimpossible agriterra fish RupaLake\\u2026')\n",
      "(1031077258927198208, u' moon2150: Let\\u2019s try to catch a few of those fingerlings we relesed to weigh them missonimpossible agriterra fish RupaLake nepal b\\u2026')\n",
      "(1030577339867037697, u'loved the new MissonImpossible film was brilliant')\n",
      "(1030812648038952961, u'MissonImpossible the new star\\U0001f98eafter TomCruise')\n",
      "(1031158181941202944, u' moon2150: Let\\u2019s try to catch a few of those fingerlings we relesed to weigh them missonimpossible agriterra fish RupaLake nepal b\\u2026')\n",
      "sad\n",
      "(1031076451515293696, u'Let\\u2019s try to catch a few of those fingerlings we relesed to weigh them missonimpossible agriterra fish RupaLake\\u2026')\n",
      "(1031077258927198208, u' moon2150: Let\\u2019s try to catch a few of those fingerlings we relesed to weigh them missonimpossible agriterra fish RupaLake nepal b\\u2026')\n",
      "(1030577339867037697, u'loved the new MissonImpossible film was brilliant')\n",
      "(1030812648038952961, u'MissonImpossible the new star\\U0001f98eafter TomCruise')\n",
      "(1031158181941202944, u' moon2150: Let\\u2019s try to catch a few of those fingerlings we relesed to weigh them missonimpossible agriterra fish RupaLake nepal b\\u2026')\n"
     ]
    }
   ],
   "source": [
    "for emotion in positiveNegative:\n",
    "    print emotion\n",
    "    query = 'SELECT * FROM movie_tweets2_%s_%s limit 10' % (movieTitle, emotion)\n",
    "    rows = session.execute(query)\n",
    "    for user_row in rows:\n",
    "        print (user_row.twitterid, user_row.tweet)"
   ]
  },
  {
   "cell_type": "markdown",
   "metadata": {},
   "source": [
    "### Finally time for Apache Spark! "
   ]
  },
  {
   "cell_type": "markdown",
   "metadata": {},
   "source": [
    "#### Create a spark session that is connected to Cassandra. From there load each table into a Spark Dataframe and take a count of the number of rows in each."
   ]
  },
  {
   "cell_type": "code",
   "execution_count": 16,
   "metadata": {},
   "outputs": [
    {
     "name": "stdout",
     "output_type": "stream",
     "text": [
      "Postive Table Count: \n",
      "5\n",
      "Negative Table Count: \n",
      "5\n"
     ]
    }
   ],
   "source": [
    "countTokens = udf(lambda words: len(words), IntegerType())\n",
    "\n",
    "spark = SparkSession.builder.appName('demo').master(\"dse://dse:9042\").getOrCreate()\n",
    "\n",
    "tableNamePos = \"movie_tweets2_%s_pos\" % (movieTitle.lower())\n",
    "tableNameSad = \"movie_tweets2_%s_sad\" % (movieTitle.lower())\n",
    "tablepos = spark.read.format(\"org.apache.spark.sql.cassandra\").options(table=tableNamePos, keyspace=\"dseanalyticsdemo\").load()\n",
    "tablesad = spark.read.format(\"org.apache.spark.sql.cassandra\").options(table=tableNameSad, keyspace=\"dseanalyticsdemo\").load()\n",
    "\n",
    "print \"Postive Table Count: \"\n",
    "print tablepos.count()\n",
    "print \"Negative Table Count: \"\n",
    "print tablesad.count()\n"
   ]
  },
  {
   "cell_type": "markdown",
   "metadata": {},
   "source": [
    "#### Use Tokenizer to break up the sentences into indiviudals words"
   ]
  },
  {
   "cell_type": "code",
   "execution_count": 35,
   "metadata": {},
   "outputs": [
    {
     "data": {
      "text/html": [
       "<div>\n",
       "<style scoped>\n",
       "    .dataframe tbody tr th:only-of-type {\n",
       "        vertical-align: middle;\n",
       "    }\n",
       "\n",
       "    .dataframe tbody tr th {\n",
       "        vertical-align: top;\n",
       "    }\n",
       "\n",
       "    .dataframe thead th {\n",
       "        text-align: right;\n",
       "    }\n",
       "</style>\n",
       "<table border=\"1\" class=\"dataframe\">\n",
       "  <thead>\n",
       "    <tr style=\"text-align: right;\">\n",
       "      <th></th>\n",
       "      <th>tweet</th>\n",
       "      <th>tweetwords</th>\n",
       "      <th>tokens</th>\n",
       "    </tr>\n",
       "  </thead>\n",
       "  <tbody>\n",
       "    <tr>\n",
       "      <th>0</th>\n",
       "      <td>New from the Phil's Quick Capsule Review:</td>\n",
       "      <td>[new, from, the, phil's, quick, capsule, review:]</td>\n",
       "      <td>7</td>\n",
       "    </tr>\n",
       "    <tr>\n",
       "      <th>1</th>\n",
       "      <td>Viratham Kalainthathu😸Showtime : MissonImpossible</td>\n",
       "      <td>[viratham, kalainthathu😸showtime, :, missonimp...</td>\n",
       "      <td>4</td>\n",
       "    </tr>\n",
       "    <tr>\n",
       "      <th>2</th>\n",
       "      <td>It’s SaturdayNight it’s a MissonImpossible Mar...</td>\n",
       "      <td>[it’s, saturdaynight, it’s, a, missonimpossibl...</td>\n",
       "      <td>7</td>\n",
       "    </tr>\n",
       "    <tr>\n",
       "      <th>3</th>\n",
       "      <td>summer movies blockbuster avengers plothole to...</td>\n",
       "      <td>[summer, movies, blockbuster, avengers, plotho...</td>\n",
       "      <td>12</td>\n",
       "    </tr>\n",
       "    <tr>\n",
       "      <th>4</th>\n",
       "      <td>Mission Impossible Fallout is the GREATEST act...</td>\n",
       "      <td>[mission, impossible, fallout, is, the, greate...</td>\n",
       "      <td>21</td>\n",
       "    </tr>\n",
       "  </tbody>\n",
       "</table>\n",
       "</div>"
      ],
      "text/plain": [
       "                                               tweet  \\\n",
       "0          New from the Phil's Quick Capsule Review:   \n",
       "1  Viratham Kalainthathu😸Showtime : MissonImpossible   \n",
       "2  It’s SaturdayNight it’s a MissonImpossible Mar...   \n",
       "3  summer movies blockbuster avengers plothole to...   \n",
       "4  Mission Impossible Fallout is the GREATEST act...   \n",
       "\n",
       "                                          tweetwords  tokens  \n",
       "0  [new, from, the, phil's, quick, capsule, review:]       7  \n",
       "1  [viratham, kalainthathu😸showtime, :, missonimp...       4  \n",
       "2  [it’s, saturdaynight, it’s, a, missonimpossibl...       7  \n",
       "3  [summer, movies, blockbuster, avengers, plotho...      12  \n",
       "4  [mission, impossible, fallout, is, the, greate...      21  "
      ]
     },
     "metadata": {},
     "output_type": "display_data"
    },
    {
     "data": {
      "text/html": [
       "<div>\n",
       "<style scoped>\n",
       "    .dataframe tbody tr th:only-of-type {\n",
       "        vertical-align: middle;\n",
       "    }\n",
       "\n",
       "    .dataframe tbody tr th {\n",
       "        vertical-align: top;\n",
       "    }\n",
       "\n",
       "    .dataframe thead th {\n",
       "        text-align: right;\n",
       "    }\n",
       "</style>\n",
       "<table border=\"1\" class=\"dataframe\">\n",
       "  <thead>\n",
       "    <tr style=\"text-align: right;\">\n",
       "      <th></th>\n",
       "      <th>tweet</th>\n",
       "      <th>tweetwords</th>\n",
       "      <th>tokens</th>\n",
       "    </tr>\n",
       "  </thead>\n",
       "  <tbody>\n",
       "    <tr>\n",
       "      <th>0</th>\n",
       "      <td>LesleyAnnBrandt TomCruise It is mind blowing M...</td>\n",
       "      <td>[lesleyannbrandt, tomcruise, it, is, mind, blo...</td>\n",
       "      <td>16</td>\n",
       "    </tr>\n",
       "    <tr>\n",
       "      <th>1</th>\n",
       "      <td>VijayFreak_: Viratham Kalainthathu😸Showtime :...</td>\n",
       "      <td>[, vijayfreak_:, viratham, kalainthathu😸showti...</td>\n",
       "      <td>6</td>\n",
       "    </tr>\n",
       "    <tr>\n",
       "      <th>2</th>\n",
       "      <td>dan_steenson: Mission Impossible Fallout is t...</td>\n",
       "      <td>[, dan_steenson:, mission, impossible, fallout...</td>\n",
       "      <td>22</td>\n",
       "    </tr>\n",
       "    <tr>\n",
       "      <th>3</th>\n",
       "      <td>LostInGallifrey: Some may think that saving S...</td>\n",
       "      <td>[, lostingallifrey:, some, may, think, that, s...</td>\n",
       "      <td>19</td>\n",
       "    </tr>\n",
       "    <tr>\n",
       "      <th>4</th>\n",
       "      <td>Lets mix those potions bois We discuss missoni...</td>\n",
       "      <td>[lets, mix, those, potions, bois, we, discuss,...</td>\n",
       "      <td>18</td>\n",
       "    </tr>\n",
       "  </tbody>\n",
       "</table>\n",
       "</div>"
      ],
      "text/plain": [
       "                                               tweet  \\\n",
       "0  LesleyAnnBrandt TomCruise It is mind blowing M...   \n",
       "1   VijayFreak_: Viratham Kalainthathu😸Showtime :...   \n",
       "2   dan_steenson: Mission Impossible Fallout is t...   \n",
       "3   LostInGallifrey: Some may think that saving S...   \n",
       "4  Lets mix those potions bois We discuss missoni...   \n",
       "\n",
       "                                          tweetwords  tokens  \n",
       "0  [lesleyannbrandt, tomcruise, it, is, mind, blo...      16  \n",
       "1  [, vijayfreak_:, viratham, kalainthathu😸showti...       6  \n",
       "2  [, dan_steenson:, mission, impossible, fallout...      22  \n",
       "3  [, lostingallifrey:, some, may, think, that, s...      19  \n",
       "4  [lets, mix, those, potions, bois, we, discuss,...      18  "
      ]
     },
     "metadata": {},
     "output_type": "display_data"
    }
   ],
   "source": [
    "tokenizerPos = Tokenizer(inputCol=\"tweet\", outputCol=\"tweetwords\")\n",
    "tokenizedPos = tokenizerPos.transform(tablepos)\n",
    "\n",
    "dfPos = tokenizedPos.select(\"tweet\", \"tweetwords\").withColumn(\"tokens\", countTokens(col(\"tweetwords\")))\n",
    "\n",
    "showDF(dfPos)\n",
    "\n",
    "tokenizerSad = Tokenizer(inputCol=\"tweet\", outputCol=\"tweetwords\")\n",
    "tokenizedSad = tokenizerSad.transform(tablesad)\n",
    "\n",
    "dfSad = tokenizedSad.select(\"tweet\", \"tweetwords\").withColumn(\"tokens\", countTokens(col(\"tweetwords\")))\n",
    "\n",
    "showDF(dfSad)"
   ]
  },
  {
   "cell_type": "markdown",
   "metadata": {},
   "source": [
    "#### Using StopWordsRemover to remove all stop words. Interesting to see, people don't use many stop words with twitter!"
   ]
  },
  {
   "cell_type": "code",
   "execution_count": 36,
   "metadata": {},
   "outputs": [
    {
     "data": {
      "text/html": [
       "<div>\n",
       "<style scoped>\n",
       "    .dataframe tbody tr th:only-of-type {\n",
       "        vertical-align: middle;\n",
       "    }\n",
       "\n",
       "    .dataframe tbody tr th {\n",
       "        vertical-align: top;\n",
       "    }\n",
       "\n",
       "    .dataframe thead th {\n",
       "        text-align: right;\n",
       "    }\n",
       "</style>\n",
       "<table border=\"1\" class=\"dataframe\">\n",
       "  <thead>\n",
       "    <tr style=\"text-align: right;\">\n",
       "      <th></th>\n",
       "      <th>tweet</th>\n",
       "      <th>tweetwords</th>\n",
       "      <th>tweetnostopwords</th>\n",
       "      <th>tokens</th>\n",
       "      <th>notokens</th>\n",
       "    </tr>\n",
       "  </thead>\n",
       "  <tbody>\n",
       "    <tr>\n",
       "      <th>0</th>\n",
       "      <td>New from the Phil's Quick Capsule Review:</td>\n",
       "      <td>[new, from, the, phil's, quick, capsule, review:]</td>\n",
       "      <td>[new, phil's, quick, capsule, review:]</td>\n",
       "      <td>7</td>\n",
       "      <td>5</td>\n",
       "    </tr>\n",
       "    <tr>\n",
       "      <th>1</th>\n",
       "      <td>Viratham Kalainthathu😸Showtime : MissonImpossible</td>\n",
       "      <td>[viratham, kalainthathu😸showtime, :, missonimp...</td>\n",
       "      <td>[viratham, kalainthathu😸showtime, :, missonimp...</td>\n",
       "      <td>4</td>\n",
       "      <td>4</td>\n",
       "    </tr>\n",
       "    <tr>\n",
       "      <th>2</th>\n",
       "      <td>It’s SaturdayNight it’s a MissonImpossible Mar...</td>\n",
       "      <td>[it’s, saturdaynight, it’s, a, missonimpossibl...</td>\n",
       "      <td>[it’s, saturdaynight, it’s, missonimpossible, ...</td>\n",
       "      <td>7</td>\n",
       "      <td>6</td>\n",
       "    </tr>\n",
       "    <tr>\n",
       "      <th>3</th>\n",
       "      <td>summer movies blockbuster avengers plothole to...</td>\n",
       "      <td>[summer, movies, blockbuster, avengers, plotho...</td>\n",
       "      <td>[summer, movies, blockbuster, avengers, plotho...</td>\n",
       "      <td>12</td>\n",
       "      <td>12</td>\n",
       "    </tr>\n",
       "    <tr>\n",
       "      <th>4</th>\n",
       "      <td>Mission Impossible Fallout is the GREATEST act...</td>\n",
       "      <td>[mission, impossible, fallout, is, the, greate...</td>\n",
       "      <td>[mission, impossible, fallout, greatest, actio...</td>\n",
       "      <td>21</td>\n",
       "      <td>15</td>\n",
       "    </tr>\n",
       "  </tbody>\n",
       "</table>\n",
       "</div>"
      ],
      "text/plain": [
       "                                               tweet  \\\n",
       "0          New from the Phil's Quick Capsule Review:   \n",
       "1  Viratham Kalainthathu😸Showtime : MissonImpossible   \n",
       "2  It’s SaturdayNight it’s a MissonImpossible Mar...   \n",
       "3  summer movies blockbuster avengers plothole to...   \n",
       "4  Mission Impossible Fallout is the GREATEST act...   \n",
       "\n",
       "                                          tweetwords  \\\n",
       "0  [new, from, the, phil's, quick, capsule, review:]   \n",
       "1  [viratham, kalainthathu😸showtime, :, missonimp...   \n",
       "2  [it’s, saturdaynight, it’s, a, missonimpossibl...   \n",
       "3  [summer, movies, blockbuster, avengers, plotho...   \n",
       "4  [mission, impossible, fallout, is, the, greate...   \n",
       "\n",
       "                                    tweetnostopwords  tokens  notokens  \n",
       "0             [new, phil's, quick, capsule, review:]       7         5  \n",
       "1  [viratham, kalainthathu😸showtime, :, missonimp...       4         4  \n",
       "2  [it’s, saturdaynight, it’s, missonimpossible, ...       7         6  \n",
       "3  [summer, movies, blockbuster, avengers, plotho...      12        12  \n",
       "4  [mission, impossible, fallout, greatest, actio...      21        15  "
      ]
     },
     "metadata": {},
     "output_type": "display_data"
    },
    {
     "data": {
      "text/html": [
       "<div>\n",
       "<style scoped>\n",
       "    .dataframe tbody tr th:only-of-type {\n",
       "        vertical-align: middle;\n",
       "    }\n",
       "\n",
       "    .dataframe tbody tr th {\n",
       "        vertical-align: top;\n",
       "    }\n",
       "\n",
       "    .dataframe thead th {\n",
       "        text-align: right;\n",
       "    }\n",
       "</style>\n",
       "<table border=\"1\" class=\"dataframe\">\n",
       "  <thead>\n",
       "    <tr style=\"text-align: right;\">\n",
       "      <th></th>\n",
       "      <th>tweet</th>\n",
       "      <th>tweetwords</th>\n",
       "      <th>tweetnostopwords</th>\n",
       "      <th>tokens</th>\n",
       "      <th>notokens</th>\n",
       "    </tr>\n",
       "  </thead>\n",
       "  <tbody>\n",
       "    <tr>\n",
       "      <th>0</th>\n",
       "      <td>LostInGallifrey: Some may think that saving S...</td>\n",
       "      <td>[, lostingallifrey:, some, may, think, that, s...</td>\n",
       "      <td>[, lostingallifrey:, may, think, saving, shado...</td>\n",
       "      <td>19</td>\n",
       "      <td>12</td>\n",
       "    </tr>\n",
       "    <tr>\n",
       "      <th>1</th>\n",
       "      <td>215Coltsfan MDanelySB Yes soon he'll have his ...</td>\n",
       "      <td>[215coltsfan, mdanelysb, yes, soon, he'll, hav...</td>\n",
       "      <td>[215coltsfan, mdanelysb, yes, soon, scene, lik...</td>\n",
       "      <td>20</td>\n",
       "      <td>12</td>\n",
       "    </tr>\n",
       "    <tr>\n",
       "      <th>2</th>\n",
       "      <td>New from the Phil's Quick Capsule Review:</td>\n",
       "      <td>[new, from, the, phil's, quick, capsule, review:]</td>\n",
       "      <td>[new, phil's, quick, capsule, review:]</td>\n",
       "      <td>7</td>\n",
       "      <td>5</td>\n",
       "    </tr>\n",
       "    <tr>\n",
       "      <th>3</th>\n",
       "      <td>LesleyAnnBrandt TomCruise It is mind blowing M...</td>\n",
       "      <td>[lesleyannbrandt, tomcruise, it, is, mind, blo...</td>\n",
       "      <td>[lesleyannbrandt, tomcruise, mind, blowing, mi...</td>\n",
       "      <td>16</td>\n",
       "      <td>12</td>\n",
       "    </tr>\n",
       "    <tr>\n",
       "      <th>4</th>\n",
       "      <td>VijayFreak_: Viratham Kalainthathu😸Showtime :...</td>\n",
       "      <td>[, vijayfreak_:, viratham, kalainthathu😸showti...</td>\n",
       "      <td>[, vijayfreak_:, viratham, kalainthathu😸showti...</td>\n",
       "      <td>6</td>\n",
       "      <td>6</td>\n",
       "    </tr>\n",
       "  </tbody>\n",
       "</table>\n",
       "</div>"
      ],
      "text/plain": [
       "                                               tweet  \\\n",
       "0   LostInGallifrey: Some may think that saving S...   \n",
       "1  215Coltsfan MDanelySB Yes soon he'll have his ...   \n",
       "2          New from the Phil's Quick Capsule Review:   \n",
       "3  LesleyAnnBrandt TomCruise It is mind blowing M...   \n",
       "4   VijayFreak_: Viratham Kalainthathu😸Showtime :...   \n",
       "\n",
       "                                          tweetwords  \\\n",
       "0  [, lostingallifrey:, some, may, think, that, s...   \n",
       "1  [215coltsfan, mdanelysb, yes, soon, he'll, hav...   \n",
       "2  [new, from, the, phil's, quick, capsule, review:]   \n",
       "3  [lesleyannbrandt, tomcruise, it, is, mind, blo...   \n",
       "4  [, vijayfreak_:, viratham, kalainthathu😸showti...   \n",
       "\n",
       "                                    tweetnostopwords  tokens  notokens  \n",
       "0  [, lostingallifrey:, may, think, saving, shado...      19        12  \n",
       "1  [215coltsfan, mdanelysb, yes, soon, scene, lik...      20        12  \n",
       "2             [new, phil's, quick, capsule, review:]       7         5  \n",
       "3  [lesleyannbrandt, tomcruise, mind, blowing, mi...      16        12  \n",
       "4  [, vijayfreak_:, viratham, kalainthathu😸showti...       6         6  "
      ]
     },
     "metadata": {},
     "output_type": "display_data"
    }
   ],
   "source": [
    "removerPos = StopWordsRemover(inputCol=\"tweetwords\", outputCol=\"tweetnostopwords\")\n",
    "removedPos = removerPos.transform(dfPos)\n",
    "\n",
    "dfPosStop = removedPos.select(\"tweet\", \"tweetwords\", \"tweetnostopwords\").withColumn(\"tokens\", countTokens(col(\"tweetwords\"))).withColumn(\"notokens\", countTokens(col(\"tweetnostopwords\")))\n",
    "\n",
    "showDF(dfPosStop)\n",
    "\n",
    "removerSad = StopWordsRemover(inputCol=\"tweetwords\", outputCol=\"tweetnostopwords\")\n",
    "removedSad = removerSad.transform(dfSad)\n",
    "\n",
    "dfSadStop = removedSad.select(\"tweet\", \"tweetwords\", \"tweetnostopwords\").withColumn(\"tokens\", countTokens(col(\"tweetwords\"))).withColumn(\"notokens\", countTokens(col(\"tweetnostopwords\")))\n",
    "\n",
    "showDF(dfSadStop)"
   ]
  },
  {
   "cell_type": "markdown",
   "metadata": {},
   "source": [
    "### Sentiment Analysis using Python package Pattern"
   ]
  },
  {
   "cell_type": "markdown",
   "metadata": {},
   "source": [
    "#### Convert each Spark Dataframe to a Pandas Dataframe. This works as-is because we are working with a small dataset. For larger datasets only convert to Pandas if data can fit in memory. From there loop over each row and get the sentiment score (anything + is postive and anything - or 0 is negative). The \"positive\" function will return true if the tweet is postive. The \"assessment\" function shows which words where used to judge and the score of each word. For more info on how the scores are calcuated: https://www.clips.uantwerpen.be/pages/pattern-en#sentiment"
   ]
  },
  {
   "cell_type": "markdown",
   "metadata": {},
   "source": [
    "#### Negative Tweets"
   ]
  },
  {
   "cell_type": "code",
   "execution_count": 38,
   "metadata": {
    "scrolled": true
   },
   "outputs": [
    {
     "data": {
      "text/html": [
       "<div>\n",
       "<style scoped>\n",
       "    .dataframe tbody tr th:only-of-type {\n",
       "        vertical-align: middle;\n",
       "    }\n",
       "\n",
       "    .dataframe tbody tr th {\n",
       "        vertical-align: top;\n",
       "    }\n",
       "\n",
       "    .dataframe thead th {\n",
       "        text-align: right;\n",
       "    }\n",
       "</style>\n",
       "<table border=\"1\" class=\"dataframe\">\n",
       "  <thead>\n",
       "    <tr style=\"text-align: right;\">\n",
       "      <th></th>\n",
       "      <th>Original Tweet</th>\n",
       "      <th>Sentiment Score</th>\n",
       "      <th>Postive</th>\n",
       "      <th>Assessments</th>\n",
       "    </tr>\n",
       "  </thead>\n",
       "  <tbody>\n",
       "    <tr>\n",
       "      <th>0</th>\n",
       "      <td>VijayFreak_: Viratham Kalainthathu😸Showtime :...</td>\n",
       "      <td>(0.0, 0.0)</td>\n",
       "      <td>False</td>\n",
       "      <td>[]</td>\n",
       "    </tr>\n",
       "    <tr>\n",
       "      <th>1</th>\n",
       "      <td>Viratham Kalainthathu😸Showtime : MissonImpossible</td>\n",
       "      <td>(0.0, 0.0)</td>\n",
       "      <td>False</td>\n",
       "      <td>[]</td>\n",
       "    </tr>\n",
       "    <tr>\n",
       "      <th>2</th>\n",
       "      <td>It’s SaturdayNight it’s a MissonImpossible Mar...</td>\n",
       "      <td>(0.0, 0.0)</td>\n",
       "      <td>False</td>\n",
       "      <td>[]</td>\n",
       "    </tr>\n",
       "    <tr>\n",
       "      <th>3</th>\n",
       "      <td>summer movies blockbuster avengers plothole to...</td>\n",
       "      <td>(-0.6, 0.9)</td>\n",
       "      <td>False</td>\n",
       "      <td>[([crazy], -0.6, 0.9, None)]</td>\n",
       "    </tr>\n",
       "    <tr>\n",
       "      <th>4</th>\n",
       "      <td>LostInGallifrey: Some may think that saving S...</td>\n",
       "      <td>(0.0, 0.0)</td>\n",
       "      <td>False</td>\n",
       "      <td>[]</td>\n",
       "    </tr>\n",
       "    <tr>\n",
       "      <th>5</th>\n",
       "      <td>215Coltsfan MDanelySB Yes soon he'll have his ...</td>\n",
       "      <td>(-0.265151515152, 0.727272727273)</td>\n",
       "      <td>False</td>\n",
       "      <td>[([new], 0.136363636364, 0.454545454545, None)...</td>\n",
       "    </tr>\n",
       "    <tr>\n",
       "      <th>6</th>\n",
       "      <td>LostInGallifrey: Some may think that saving S...</td>\n",
       "      <td>(0.0, 0.0)</td>\n",
       "      <td>False</td>\n",
       "      <td>[]</td>\n",
       "    </tr>\n",
       "    <tr>\n",
       "      <th>7</th>\n",
       "      <td>Lets mix those potions bois We discuss missoni...</td>\n",
       "      <td>(-0.6, 0.8)</td>\n",
       "      <td>False</td>\n",
       "      <td>[([dirty], -0.6, 0.8, None)]</td>\n",
       "    </tr>\n",
       "    <tr>\n",
       "      <th>8</th>\n",
       "      <td>VijayFreak_: Viratham Kalainthathu😸Showtime :...</td>\n",
       "      <td>(0.0, 0.0)</td>\n",
       "      <td>False</td>\n",
       "      <td>[]</td>\n",
       "    </tr>\n",
       "  </tbody>\n",
       "</table>\n",
       "</div>"
      ],
      "text/plain": [
       "                                      Original Tweet  \\\n",
       "0   VijayFreak_: Viratham Kalainthathu😸Showtime :...   \n",
       "1  Viratham Kalainthathu😸Showtime : MissonImpossible   \n",
       "2  It’s SaturdayNight it’s a MissonImpossible Mar...   \n",
       "3  summer movies blockbuster avengers plothole to...   \n",
       "4   LostInGallifrey: Some may think that saving S...   \n",
       "5  215Coltsfan MDanelySB Yes soon he'll have his ...   \n",
       "6   LostInGallifrey: Some may think that saving S...   \n",
       "7  Lets mix those potions bois We discuss missoni...   \n",
       "8   VijayFreak_: Viratham Kalainthathu😸Showtime :...   \n",
       "\n",
       "                     Sentiment Score  Postive  \\\n",
       "0                         (0.0, 0.0)    False   \n",
       "1                         (0.0, 0.0)    False   \n",
       "2                         (0.0, 0.0)    False   \n",
       "3                        (-0.6, 0.9)    False   \n",
       "4                         (0.0, 0.0)    False   \n",
       "5  (-0.265151515152, 0.727272727273)    False   \n",
       "6                         (0.0, 0.0)    False   \n",
       "7                        (-0.6, 0.8)    False   \n",
       "8                         (0.0, 0.0)    False   \n",
       "\n",
       "                                         Assessments  \n",
       "0                                                 []  \n",
       "1                                                 []  \n",
       "2                                                 []  \n",
       "3                       [([crazy], -0.6, 0.9, None)]  \n",
       "4                                                 []  \n",
       "5  [([new], 0.136363636364, 0.454545454545, None)...  \n",
       "6                                                 []  \n",
       "7                       [([dirty], -0.6, 0.8, None)]  \n",
       "8                                                 []  "
      ]
     },
     "execution_count": 38,
     "metadata": {},
     "output_type": "execute_result"
    }
   ],
   "source": [
    "pandaSad = dfSadStop.toPandas()\n",
    "movieScoreSad = 0\n",
    "countSad = 0\n",
    "numSadTweets = 0\n",
    "sadList = list()\n",
    "\n",
    "for index, row in pandaSad.iterrows():\n",
    "    if positive(row[\"tweetnostopwords\"], .1):\n",
    "        countSad = countSad + 1\n",
    "    scoreSad = sentiment(row['tweetnostopwords'])[0]\n",
    "    if scoreSad <= 0:\n",
    "        #print row['tweet']\n",
    "        #print sentiment(row['tweetnostopwords'])[0]\n",
    "        sadList.append((row['tweet'], sentiment(row[\"tweetnostopwords\"]), positive(row[\"tweetnostopwords\"]), \\\n",
    "                         sentiment(row['tweetnostopwords']).assessments))\n",
    "        movieScoreSad = scoreSad + movieScoreSad\n",
    "        \n",
    "labels = ['Original Tweet', 'Sentiment Score', 'Postive', 'Assessments']\n",
    "sadTweetScores = pandas.DataFrame.from_records(sadList, columns=labels)\n",
    "\n",
    "sadTweetScores"
   ]
  },
  {
   "cell_type": "markdown",
   "metadata": {},
   "source": [
    "#### Positive Tweet\n",
    "#### Also adding up all the sentiment scores of all the tweets"
   ]
  },
  {
   "cell_type": "code",
   "execution_count": 39,
   "metadata": {},
   "outputs": [
    {
     "data": {
      "text/html": [
       "<div>\n",
       "<style scoped>\n",
       "    .dataframe tbody tr th:only-of-type {\n",
       "        vertical-align: middle;\n",
       "    }\n",
       "\n",
       "    .dataframe tbody tr th {\n",
       "        vertical-align: top;\n",
       "    }\n",
       "\n",
       "    .dataframe thead th {\n",
       "        text-align: right;\n",
       "    }\n",
       "</style>\n",
       "<table border=\"1\" class=\"dataframe\">\n",
       "  <thead>\n",
       "    <tr style=\"text-align: right;\">\n",
       "      <th></th>\n",
       "      <th>Original Tweet</th>\n",
       "      <th>Sentiment Score</th>\n",
       "      <th>Postive</th>\n",
       "      <th>Assessments</th>\n",
       "    </tr>\n",
       "  </thead>\n",
       "  <tbody>\n",
       "    <tr>\n",
       "      <th>0</th>\n",
       "      <td>LesleyAnnBrandt TomCruise It is mind blowing M...</td>\n",
       "      <td>(0.55, 0.2)</td>\n",
       "      <td>True</td>\n",
       "      <td>[([best], 1.0, 0.3, None), ([action], 0.1, 0.1...</td>\n",
       "    </tr>\n",
       "    <tr>\n",
       "      <th>1</th>\n",
       "      <td>dan_steenson: Mission Impossible Fallout is t...</td>\n",
       "      <td>(0.233333333333, 0.65)</td>\n",
       "      <td>True</td>\n",
       "      <td>[([impossible], -0.666666666667, 1.0, None), (...</td>\n",
       "    </tr>\n",
       "    <tr>\n",
       "      <th>2</th>\n",
       "      <td>BlackQueenLara Yours Queen Happy to know you'r...</td>\n",
       "      <td>(0.766666666667, 0.866666666667)</td>\n",
       "      <td>True</td>\n",
       "      <td>[([happy], 0.8, 1.0, None), ([enjoying], 0.5, ...</td>\n",
       "    </tr>\n",
       "    <tr>\n",
       "      <th>3</th>\n",
       "      <td>AMAHappyCampers I hear missonimpossible might ...</td>\n",
       "      <td>(0.8, 0.75)</td>\n",
       "      <td>True</td>\n",
       "      <td>[([great], 0.8, 0.75, None)]</td>\n",
       "    </tr>\n",
       "    <tr>\n",
       "      <th>4</th>\n",
       "      <td>loved the new MissonImpossible film was brilliant</td>\n",
       "      <td>(0.578787878788, 0.751515151515)</td>\n",
       "      <td>True</td>\n",
       "      <td>[([loved], 0.7, 0.8, None), ([new], 0.13636363...</td>\n",
       "    </tr>\n",
       "    <tr>\n",
       "      <th>5</th>\n",
       "      <td>Mission Impossible Fallout is the GREATEST act...</td>\n",
       "      <td>(0.233333333333, 0.65)</td>\n",
       "      <td>True</td>\n",
       "      <td>[([impossible], -0.666666666667, 1.0, None), (...</td>\n",
       "    </tr>\n",
       "    <tr>\n",
       "      <th>6</th>\n",
       "      <td>MissionImpossibleFallout is officially one of ...</td>\n",
       "      <td>(0.55, 0.2)</td>\n",
       "      <td>True</td>\n",
       "      <td>[([best], 1.0, 0.3, None), ([action], 0.1, 0.1...</td>\n",
       "    </tr>\n",
       "    <tr>\n",
       "      <th>7</th>\n",
       "      <td>New from the Phil's Quick Capsule Review:</td>\n",
       "      <td>(0.234848484848, 0.477272727273)</td>\n",
       "      <td>True</td>\n",
       "      <td>[([new], 0.136363636364, 0.454545454545, None)...</td>\n",
       "    </tr>\n",
       "  </tbody>\n",
       "</table>\n",
       "</div>"
      ],
      "text/plain": [
       "                                      Original Tweet  \\\n",
       "0  LesleyAnnBrandt TomCruise It is mind blowing M...   \n",
       "1   dan_steenson: Mission Impossible Fallout is t...   \n",
       "2  BlackQueenLara Yours Queen Happy to know you'r...   \n",
       "3  AMAHappyCampers I hear missonimpossible might ...   \n",
       "4  loved the new MissonImpossible film was brilliant   \n",
       "5  Mission Impossible Fallout is the GREATEST act...   \n",
       "6  MissionImpossibleFallout is officially one of ...   \n",
       "7          New from the Phil's Quick Capsule Review:   \n",
       "\n",
       "                    Sentiment Score  Postive  \\\n",
       "0                       (0.55, 0.2)     True   \n",
       "1            (0.233333333333, 0.65)     True   \n",
       "2  (0.766666666667, 0.866666666667)     True   \n",
       "3                       (0.8, 0.75)     True   \n",
       "4  (0.578787878788, 0.751515151515)     True   \n",
       "5            (0.233333333333, 0.65)     True   \n",
       "6                       (0.55, 0.2)     True   \n",
       "7  (0.234848484848, 0.477272727273)     True   \n",
       "\n",
       "                                         Assessments  \n",
       "0  [([best], 1.0, 0.3, None), ([action], 0.1, 0.1...  \n",
       "1  [([impossible], -0.666666666667, 1.0, None), (...  \n",
       "2  [([happy], 0.8, 1.0, None), ([enjoying], 0.5, ...  \n",
       "3                       [([great], 0.8, 0.75, None)]  \n",
       "4  [([loved], 0.7, 0.8, None), ([new], 0.13636363...  \n",
       "5  [([impossible], -0.666666666667, 1.0, None), (...  \n",
       "6  [([best], 1.0, 0.3, None), ([action], 0.1, 0.1...  \n",
       "7  [([new], 0.136363636364, 0.454545454545, None)...  "
      ]
     },
     "execution_count": 39,
     "metadata": {},
     "output_type": "execute_result"
    }
   ],
   "source": [
    "pandaPos = dfPosStop.toPandas()\n",
    "movieScore = 0\n",
    "countPos = 0\n",
    "poslist = list()\n",
    "\n",
    "for index, row in pandaPos.iterrows():\n",
    "    if not positive(row[\"tweetnostopwords\"]) and sentiment(row[\"tweetnostopwords\"])[0] != 0.0:\n",
    "        countPos = countPos + 1\n",
    "    score = sentiment(row['tweetnostopwords'])[0]\n",
    "    if score > 0:\n",
    "        poslist.append((row['tweet'], sentiment(row[\"tweetnostopwords\"]), positive(row[\"tweetnostopwords\"]), \\\n",
    "                         sentiment(row['tweetnostopwords']).assessments))\n",
    "        movieScore = score + movieScore\n",
    "        \n",
    "labels = ['Original Tweet', 'Sentiment Score', 'Postive', 'Assessments']\n",
    "postiveTweetScores = pandas.DataFrame.from_records(poslist, columns=labels)\n",
    "\n",
    "postiveTweetScores"
   ]
  },
  {
   "cell_type": "markdown",
   "metadata": {},
   "source": [
    "### Alright! Should I see this movie???"
   ]
  },
  {
   "cell_type": "code",
   "execution_count": 40,
   "metadata": {},
   "outputs": [
    {
     "data": {
      "text/markdown": [
       "**Positive Rating Average Score**  \n",
       "0.281926406926"
      ],
      "text/plain": [
       "<IPython.core.display.Markdown object>"
      ]
     },
     "metadata": {},
     "output_type": "display_data"
    },
    {
     "data": {
      "text/markdown": [
       "**Negative Rating Average Score**  \n",
       "-0.162794612795"
      ],
      "text/plain": [
       "<IPython.core.display.Markdown object>"
      ]
     },
     "metadata": {},
     "output_type": "display_data"
    },
    {
     "name": "stdout",
     "output_type": "stream",
     "text": [
      "People like this movie!\n"
     ]
    },
    {
     "data": {
      "text/markdown": [
       "**People Like This Movie!**  \n"
      ],
      "text/plain": [
       "<IPython.core.display.Markdown object>"
      ]
     },
     "metadata": {},
     "output_type": "display_data"
    }
   ],
   "source": [
    "posrating = movieScore/(dfPos.count() - countPos)\n",
    "\n",
    "display(Markdown('**{}**  \\n{}'.format(\"Positive Rating Average Score\", posrating)))\n",
    "\n",
    "if dfSad.count() != 0:\n",
    "    sadrating = movieScoreSad/(dfSad.count() - countSad)\n",
    "else: \n",
    "    sadrating = 0\n",
    "\n",
    "display(Markdown('**{}**  \\n{}'.format(\"Negative Rating Average Score\", sadrating)))\n",
    "\n",
    "if posrating > abs(sadrating):\n",
    "    print \"People like this movie!\"\n",
    "    display(Markdown('**{}**  \\n'.format(\"People Like This Movie!\")))\n",
    "elif posrating == abs(sadrating):\n",
    "    display(Markdown('**{}**  \\n'.format(\"People are split! Take a chance!\")))\n",
    "elif posrating < abs(sadrating):\n",
    "    display(Markdown('***{}***  \\n'.format(\"People Do Not Like This Movie!\")))\n",
    "    "
   ]
  },
  {
   "cell_type": "code",
   "execution_count": null,
   "metadata": {},
   "outputs": [],
   "source": []
  },
  {
   "cell_type": "code",
   "execution_count": null,
   "metadata": {},
   "outputs": [],
   "source": []
  }
 ],
 "metadata": {
  "kernelspec": {
   "display_name": "Python 2",
   "language": "python",
   "name": "python2"
  },
  "language_info": {
   "codemirror_mode": {
    "name": "ipython",
    "version": 2
   },
   "file_extension": ".py",
   "mimetype": "text/x-python",
   "name": "python",
   "nbconvert_exporter": "python",
   "pygments_lexer": "ipython2",
   "version": "2.7.13"
  }
 },
 "nbformat": 4,
 "nbformat_minor": 2
}
